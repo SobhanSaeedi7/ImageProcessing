{
 "cells": [
  {
   "cell_type": "code",
   "execution_count": 223,
   "metadata": {},
   "outputs": [],
   "source": [
    "import cv2\n",
    "import numpy as np\n",
    "import matplotlib.pyplot as plt"
   ]
  },
  {
   "cell_type": "code",
   "execution_count": 224,
   "metadata": {},
   "outputs": [],
   "source": [
    "img = cv2.imread('Inputs\\SuperMan.jpg')\n",
    "img = cv2.cvtColor(img, cv2.COLOR_BGR2HSV)\n",
    "H, S, V = cv2.split(img)\n"
   ]
  },
  {
   "cell_type": "code",
   "execution_count": 225,
   "metadata": {},
   "outputs": [],
   "source": [
    "bg = cv2.imread('Inputs\\sky.jpg')\n",
    "bg = cv2.resize(bg, (img.shape[1], img.shape[0]))\n",
    "result = cv2.imread('Inputs\\SuperMan.jpg')"
   ]
  },
  {
   "cell_type": "code",
   "execution_count": 226,
   "metadata": {},
   "outputs": [],
   "source": [
    "for i in range(H.shape[0]):\n",
    "    for j in range(H.shape[1]):\n",
    "        if 35 < H[i,j] < 80 and S[i, j] > 122:#gree\n",
    "            result[i,j] = bg[i,j]\n",
    "\n"
   ]
  },
  {
   "cell_type": "code",
   "execution_count": 232,
   "metadata": {},
   "outputs": [],
   "source": [
    "for i in range(400):\n",
    "    for j in range(400):\n",
    "        result[i,j] = bg[i,j]\n",
    "for i in range(200):\n",
    "    for j in range(600):\n",
    "        result[i,j] = bg[i,j]"
   ]
  },
  {
   "cell_type": "code",
   "execution_count": 234,
   "metadata": {},
   "outputs": [
    {
     "data": {
      "text/plain": [
       "True"
      ]
     },
     "execution_count": 234,
     "metadata": {},
     "output_type": "execute_result"
    }
   ],
   "source": [
    "\n",
    "cv2.imwrite('Outputs/green_screen_technique.jpg', result)"
   ]
  }
 ],
 "metadata": {
  "kernelspec": {
   "display_name": "Python 3",
   "language": "python",
   "name": "python3"
  },
  "language_info": {
   "codemirror_mode": {
    "name": "ipython",
    "version": 3
   },
   "file_extension": ".py",
   "mimetype": "text/x-python",
   "name": "python",
   "nbconvert_exporter": "python",
   "pygments_lexer": "ipython3",
   "version": "3.10.8"
  },
  "orig_nbformat": 4
 },
 "nbformat": 4,
 "nbformat_minor": 2
}
